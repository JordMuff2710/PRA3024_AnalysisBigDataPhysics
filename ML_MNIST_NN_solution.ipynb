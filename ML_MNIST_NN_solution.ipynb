{
  "nbformat": 4,
  "nbformat_minor": 0,
  "metadata": {
    "colab": {
      "name": "ML_MNIST_NN.ipynb",
      "provenance": [],
      "collapsed_sections": []
    },
    "kernelspec": {
      "name": "python3",
      "display_name": "Python 3"
    }
  },
  "cells": [
    {
      "cell_type": "code",
      "metadata": {
        "id": "XpGNAvNbSzkK",
        "colab_type": "code",
        "colab": {
          "base_uri": "https://localhost:8080/",
          "height": 80
        },
        "outputId": "9a919235-051c-4ab3-ec61-74809cd20901"
      },
      "source": [
        "import keras\n",
        "from keras.datasets import mnist\n",
        "import matplotlib.pyplot as plt\n",
        "import numpy as np"
      ],
      "execution_count": 1,
      "outputs": [
        {
          "output_type": "stream",
          "text": [
            "Using TensorFlow backend.\n"
          ],
          "name": "stderr"
        },
        {
          "output_type": "display_data",
          "data": {
            "text/html": [
              "<p style=\"color: red;\">\n",
              "The default version of TensorFlow in Colab will soon switch to TensorFlow 2.x.<br>\n",
              "We recommend you <a href=\"https://www.tensorflow.org/guide/migrate\" target=\"_blank\">upgrade</a> now \n",
              "or ensure your notebook will continue to use TensorFlow 1.x via the <code>%tensorflow_version 1.x</code> magic:\n",
              "<a href=\"https://colab.research.google.com/notebooks/tensorflow_version.ipynb\" target=\"_blank\">more info</a>.</p>\n"
            ],
            "text/plain": [
              "<IPython.core.display.HTML object>"
            ]
          },
          "metadata": {
            "tags": []
          }
        }
      ]
    },
    {
      "cell_type": "code",
      "metadata": {
        "id": "8IRtFU1ZWO0a",
        "colab_type": "code",
        "colab": {}
      },
      "source": [
        "# load training and test images (x), and their respective classified labels (y).\n",
        "(x_train, y_train), (x_test, y_test) = mnist.load_data()"
      ],
      "execution_count": 0,
      "outputs": []
    },
    {
      "cell_type": "code",
      "metadata": {
        "id": "5G5KLASFWlnX",
        "colab_type": "code",
        "colab": {
          "base_uri": "https://localhost:8080/",
          "height": 225
        },
        "outputId": "d2dde084-fb17-4046-903b-699bf115e5f7"
      },
      "source": [
        "# Investigate the data\n",
        "\n",
        "print(\"Training data shape: \", x_train.shape) # (60000, 28, 28) -- 60000 images, each 28x28 pixels\n",
        "print(\"Test data shape\", x_test.shape) # (10000, 28, 28) -- 10000 images, each 28x28\n",
        "print(\"First 10 training labels as digits:\\n\", y_train[:10])\n",
        "print(\"\")\n",
        "\n",
        "# Plot the first 10 images\n",
        "plt.figure(figsize=[16,16])\n",
        "for i in range(10):\n",
        "    plt.subplot(1,10,i+1)\n",
        "    plt.title(\"Label: %i\"%y_train[i])\n",
        "    plt.imshow(x_train[i].reshape([28,28]),cmap='gray');"
      ],
      "execution_count": 3,
      "outputs": [
        {
          "output_type": "stream",
          "text": [
            "Training data shape:  (60000, 28, 28)\n",
            "Test data shape (10000, 28, 28)\n",
            "First 10 training labels as digits:\n",
            " [5 0 4 1 9 2 1 3 1 4]\n",
            "\n"
          ],
          "name": "stdout"
        },
        {
          "output_type": "display_data",
          "data": {
            "image/png": "[encoded data removed]",
            "text/plain": [
              "<Figure size 1152x1152 with 10 Axes>"
            ]
          },
          "metadata": {
            "tags": []
          }
        }
      ]
    },
    {
      "cell_type": "code",
      "metadata": {
        "id": "nk6I1PweS7Br",
        "colab_type": "code",
        "colab": {
          "base_uri": "https://localhost:8080/",
          "height": 221
        },
        "outputId": "d7ceddcb-9bf7-4a46-f0db-9a9341be893d"
      },
      "source": [
        "# Pre-processing of data\n",
        "\n",
        "# Flatten the images\n",
        "image_vector_size = 28*28\n",
        "x_train = x_train.reshape(x_train.shape[0], image_vector_size)\n",
        "x_test = x_test.reshape(x_test.shape[0], image_vector_size)\n",
        "print(\"reshaped training data format: \", x_train.shape) # -- 60000 images, now flat arrays of 28*28 long\n",
        "\n",
        "# one-hot encode the labels\n",
        "num_classes = 10\n",
        "y_train = keras.utils.to_categorical(y_train, num_classes)\n",
        "y_test = keras.utils.to_categorical(y_test, num_classes)\n",
        "print(\"First 10 training lables as one-hot encoded vectors:\\n\", y_train[:10])"
      ],
      "execution_count": 4,
      "outputs": [
        {
          "output_type": "stream",
          "text": [
            "reshaped training data format:  (60000, 784)\n",
            "First 10 training lables as one-hot encoded vectors:\n",
            " [[0. 0. 0. 0. 0. 1. 0. 0. 0. 0.]\n",
            " [1. 0. 0. 0. 0. 0. 0. 0. 0. 0.]\n",
            " [0. 0. 0. 0. 1. 0. 0. 0. 0. 0.]\n",
            " [0. 1. 0. 0. 0. 0. 0. 0. 0. 0.]\n",
            " [0. 0. 0. 0. 0. 0. 0. 0. 0. 1.]\n",
            " [0. 0. 1. 0. 0. 0. 0. 0. 0. 0.]\n",
            " [0. 1. 0. 0. 0. 0. 0. 0. 0. 0.]\n",
            " [0. 0. 0. 1. 0. 0. 0. 0. 0. 0.]\n",
            " [0. 1. 0. 0. 0. 0. 0. 0. 0. 0.]\n",
            " [0. 0. 0. 0. 1. 0. 0. 0. 0. 0.]]\n"
          ],
          "name": "stdout"
        }
      ]
    },
    {
      "cell_type": "code",
      "metadata": {
        "id": "f8HyorlxTUgO",
        "colab_type": "code",
        "colab": {
          "base_uri": "https://localhost:8080/",
          "height": 343
        },
        "outputId": "66c19d84-eca3-4a5d-967e-be659ace7c5b"
      },
      "source": [
        "# Build the network\n",
        "from keras.layers import Dense # Dense layers are \"fully connected\" layers\n",
        "from keras.models import Sequential # Documentation: https://keras.io/models/sequential/\n",
        "\n",
        "model = Sequential()\n",
        "\n",
        "# The input layer requires the special input_shape parameter, which should equal the shape of our training data.\n",
        "# The output layer must be the same size as the (one-hot encoded) labels.\n",
        "# Choose a non-linear activation function such as a sigmoid, or relu.\n",
        "# For classification purposes, where the outputs are normalized 'probabilities' between the classes,\n",
        "#  one typically uses the softmax activation function for the last layer.\n",
        "\n",
        "model.add(Dense(units=32, activation='sigmoid', input_shape=(image_vector_size,) ))\n",
        "model.add(Dense(units=num_classes, activation='softmax'))\n",
        "\n",
        "# Print model summary. Shows network layout, and # free parameters (weights + biases) to adapt while learning.\n",
        "model.summary()"
      ],
      "execution_count": 5,
      "outputs": [
        {
          "output_type": "stream",
          "text": [
            "WARNING:tensorflow:From /usr/local/lib/python3.6/dist-packages/keras/backend/tensorflow_backend.py:66: The name tf.get_default_graph is deprecated. Please use tf.compat.v1.get_default_graph instead.\n",
            "\n",
            "WARNING:tensorflow:From /usr/local/lib/python3.6/dist-packages/keras/backend/tensorflow_backend.py:541: The name tf.placeholder is deprecated. Please use tf.compat.v1.placeholder instead.\n",
            "\n",
            "WARNING:tensorflow:From /usr/local/lib/python3.6/dist-packages/keras/backend/tensorflow_backend.py:4432: The name tf.random_uniform is deprecated. Please use tf.random.uniform instead.\n",
            "\n",
            "Model: \"sequential_1\"\n",
            "_________________________________________________________________\n",
            "Layer (type)                 Output Shape              Param #   \n",
            "=================================================================\n",
            "dense_1 (Dense)              (None, 32)                25120     \n",
            "_________________________________________________________________\n",
            "dense_2 (Dense)              (None, 10)                330       \n",
            "=================================================================\n",
            "Total params: 25,450\n",
            "Trainable params: 25,450\n",
            "Non-trainable params: 0\n",
            "_________________________________________________________________\n"
          ],
          "name": "stdout"
        }
      ]
    },
    {
      "cell_type": "code",
      "metadata": {
        "id": "xLA4UyhnTjUK",
        "colab_type": "code",
        "colab": {
          "base_uri": "https://localhost:8080/",
          "height": 105
        },
        "outputId": "26d29ed9-5a73-4d39-b616-c80a6b980a46"
      },
      "source": [
        "# Compile the model\n",
        "\n",
        "# A good loss function for probability classification that works well with softmax is the 'categorical crossentropy'.\n",
        "#  It's a function of the difference between the predicted y (from running the image through the network),\n",
        "#  and the actual label y that we get from the dataset. The larger the loss, the worst our network is performing.\n",
        "# A good optimizer is the stochastic gradient descent (sgd) or adam.\n",
        "\n",
        "model.compile(optimizer=\"sgd\", loss='categorical_crossentropy', metrics=['accuracy'])"
      ],
      "execution_count": 6,
      "outputs": [
        {
          "output_type": "stream",
          "text": [
            "WARNING:tensorflow:From /usr/local/lib/python3.6/dist-packages/keras/optimizers.py:793: The name tf.train.Optimizer is deprecated. Please use tf.compat.v1.train.Optimizer instead.\n",
            "\n",
            "WARNING:tensorflow:From /usr/local/lib/python3.6/dist-packages/keras/backend/tensorflow_backend.py:3576: The name tf.log is deprecated. Please use tf.math.log instead.\n",
            "\n"
          ],
          "name": "stdout"
        }
      ]
    },
    {
      "cell_type": "code",
      "metadata": {
        "id": "Hpxjqt02r4bJ",
        "colab_type": "code",
        "colab": {
          "base_uri": "https://localhost:8080/",
          "height": 413
        },
        "outputId": "3021301b-eb8a-400f-b3ee-988c948bb2a6"
      },
      "source": [
        "# Let's see how good the model 'predicts' some hand-written digits in our test dataset, without training.\n",
        "# It's probably random: so for 10 digits, it should get an accuracy around 0.1 .\n",
        "\n",
        "loss, accuracy  = model.evaluate(x_test, y_test, verbose=False)\n",
        "print(f'Test loss: {loss:.3}')\n",
        "print(f'Test accuracy: {accuracy:.3}')\n",
        "\n",
        "y_pred_test = model.predict_proba(x_test)\n",
        "\n",
        "plt.figure(figsize=[16,16])\n",
        "for i in range(10):\n",
        "    plt.subplot(1,10,i+1)\n",
        "    plt.title(\"Label: {0}\\nPrediction:{1}\".format(\n",
        "        np.argmax(y_test[i]), np.argmax(y_pred_test[i]) ))\n",
        "    plt.imshow(x_test[i].reshape([28,28]),cmap='gray');"
      ],
      "execution_count": 7,
      "outputs": [
        {
          "output_type": "stream",
          "text": [
            "WARNING:tensorflow:From /usr/local/lib/python3.6/dist-packages/keras/backend/tensorflow_backend.py:3005: The name tf.Session is deprecated. Please use tf.compat.v1.Session instead.\n",
            "\n",
            "WARNING:tensorflow:From /usr/local/lib/python3.6/dist-packages/keras/backend/tensorflow_backend.py:190: The name tf.get_default_session is deprecated. Please use tf.compat.v1.get_default_session instead.\n",
            "\n",
            "WARNING:tensorflow:From /usr/local/lib/python3.6/dist-packages/keras/backend/tensorflow_backend.py:197: The name tf.ConfigProto is deprecated. Please use tf.compat.v1.ConfigProto instead.\n",
            "\n",
            "WARNING:tensorflow:From /usr/local/lib/python3.6/dist-packages/keras/backend/tensorflow_backend.py:207: The name tf.global_variables is deprecated. Please use tf.compat.v1.global_variables instead.\n",
            "\n",
            "WARNING:tensorflow:From /usr/local/lib/python3.6/dist-packages/keras/backend/tensorflow_backend.py:216: The name tf.is_variable_initialized is deprecated. Please use tf.compat.v1.is_variable_initialized instead.\n",
            "\n",
            "WARNING:tensorflow:From /usr/local/lib/python3.6/dist-packages/keras/backend/tensorflow_backend.py:223: The name tf.variables_initializer is deprecated. Please use tf.compat.v1.variables_initializer instead.\n",
            "\n",
            "Test loss: 2.63\n",
            "Test accuracy: 0.0956\n"
          ],
          "name": "stdout"
        },
        {
          "output_type": "display_data",
          "data": {
            "image/png": "[encoded data removed]",
            "text/plain": [
              "<Figure size 1152x1152 with 10 Axes>"
            ]
          },
          "metadata": {
            "tags": []
          }
        }
      ]
    },
    {
      "cell_type": "code",
      "metadata": {
        "id": "gCkCK2BZZRG5",
        "colab_type": "code",
        "colab": {
          "base_uri": "https://localhost:8080/",
          "height": 343
        },
        "outputId": "30dff18c-e67e-4d2f-ad89-453960eca494"
      },
      "source": [
        "# Train the model.\n",
        "\n",
        "# BATCH_SIZE defines how many images to process at once.\n",
        "# EPOCHS defines how often to run over the total data (60000 images)\n",
        "# (Note that a small part of the train data is internally split off for independent validation of the metrics)\n",
        "\n",
        "BATCH_SIZE = 128\n",
        "EPOCHS = 5\n",
        "\n",
        "history = model.fit(x_train, y_train, batch_size=BATCH_SIZE, epochs=EPOCHS, verbose=1, validation_split=.1)"
      ],
      "execution_count": 8,
      "outputs": [
        {
          "output_type": "stream",
          "text": [
            "WARNING:tensorflow:From /usr/local/lib/python3.6/dist-packages/tensorflow_core/python/ops/math_grad.py:1424: where (from tensorflow.python.ops.array_ops) is deprecated and will be removed in a future version.\n",
            "Instructions for updating:\n",
            "Use tf.where in 2.0, which has the same broadcast rule as np.where\n",
            "WARNING:tensorflow:From /usr/local/lib/python3.6/dist-packages/keras/backend/tensorflow_backend.py:1033: The name tf.assign_add is deprecated. Please use tf.compat.v1.assign_add instead.\n",
            "\n",
            "WARNING:tensorflow:From /usr/local/lib/python3.6/dist-packages/keras/backend/tensorflow_backend.py:1020: The name tf.assign is deprecated. Please use tf.compat.v1.assign instead.\n",
            "\n",
            "Train on 54000 samples, validate on 6000 samples\n",
            "Epoch 1/5\n",
            "54000/54000 [==============================] - 1s 22us/step - loss: 1.4338 - acc: 0.6319 - val_loss: 0.9736 - val_acc: 0.8257\n",
            "Epoch 2/5\n",
            "54000/54000 [==============================] - 1s 20us/step - loss: 0.8841 - acc: 0.8187 - val_loss: 0.7117 - val_acc: 0.8752\n",
            "Epoch 3/5\n",
            "54000/54000 [==============================] - 1s 21us/step - loss: 0.6999 - acc: 0.8499 - val_loss: 0.5750 - val_acc: 0.8877\n",
            "Epoch 4/5\n",
            "54000/54000 [==============================] - 1s 20us/step - loss: 0.6037 - acc: 0.8652 - val_loss: 0.4961 - val_acc: 0.9005\n",
            "Epoch 5/5\n",
            "54000/54000 [==============================] - 1s 20us/step - loss: 0.5426 - acc: 0.8729 - val_loss: 0.4622 - val_acc: 0.8985\n"
          ],
          "name": "stdout"
        }
      ]
    },
    {
      "cell_type": "code",
      "metadata": {
        "id": "arNvXRj8W3i9",
        "colab_type": "code",
        "colab": {
          "base_uri": "https://localhost:8080/",
          "height": 295
        },
        "outputId": "f28f2cfd-eada-498c-b2ec-55eb5ec3cc03"
      },
      "source": [
        "# Plot the progression of the training process\n",
        "\n",
        "plt.plot(history.history['acc'])\n",
        "plt.plot(history.history['val_acc'])\n",
        "plt.title('model accuracy')\n",
        "plt.ylabel('accuracy')\n",
        "plt.xlabel('epoch')\n",
        "plt.legend(['training', 'validation'], loc='best')\n",
        "plt.show()"
      ],
      "execution_count": 9,
      "outputs": [
        {
          "output_type": "display_data",
          "data": {
            "image/png": "[encoded data removed]",
            "text/plain": [
              "<Figure size 432x288 with 1 Axes>"
            ]
          },
          "metadata": {
            "tags": []
          }
        }
      ]
    },
    {
      "cell_type": "code",
      "metadata": {
        "id": "AY46AfbHT0SZ",
        "colab_type": "code",
        "colab": {
          "base_uri": "https://localhost:8080/",
          "height": 415
        },
        "outputId": "88a7f96b-12d6-4552-a95a-3e7079550aed"
      },
      "source": [
        "# Evaluate model on test data - how often does the network predict the right label after training?\n",
        "\n",
        "loss, accuracy  = model.evaluate(x_test, y_test, verbose=False)\n",
        "\n",
        "print(f'Test loss: {loss:.3}')\n",
        "print(f'Test accuracy: {accuracy:.3}')\n",
        "\n",
        "# Make a confusion matrix to see which numbers are difficult to disentangle\n",
        "\n",
        "y_pred_test = model.predict_proba(x_test) # obtain one-hot encoded predictions for the x_test images\n",
        "y_test_index      = [ np.argmax(i) for i in y_test ] # actual number known labels\n",
        "y_pred_test_index = [ np.argmax(i) for i in y_pred_test ] # actual number predictions\n",
        "y_pred_test_proba = [ y_pred_test[i][ y_pred_test_index[i] ] for i in range(len(y_test_index)) ] # probabilities to be correct\n",
        "\n",
        "from sklearn.metrics import confusion_matrix\n",
        "plt.figure(figsize=(7, 6))\n",
        "plt.title('Confusion matrix', fontsize=16)\n",
        "plt.imshow(confusion_matrix(y_test_index, y_pred_test_index ))\n",
        "plt.xticks(np.arange(10), np.arange(10), rotation=0, fontsize=12)\n",
        "plt.yticks(np.arange(10), np.arange(10), fontsize=12)\n",
        "plt.colorbar()\n",
        "plt.show()"
      ],
      "execution_count": 10,
      "outputs": [
        {
          "output_type": "stream",
          "text": [
            "Test loss: 0.506\n",
            "Test accuracy: 0.879\n"
          ],
          "name": "stdout"
        },
        {
          "output_type": "display_data",
          "data": {
            "image/png": "[encoded data removed]",
            "text/plain": [
              "<Figure size 504x432 with 2 Axes>"
            ]
          },
          "metadata": {
            "tags": []
          }
        }
      ]
    },
    {
      "cell_type": "code",
      "metadata": {
        "id": "e824_G2qZ4Lg",
        "colab_type": "code",
        "colab": {
          "base_uri": "https://localhost:8080/",
          "height": 170
        },
        "outputId": "f505fd0e-eb62-4f34-ba7e-d709f5f3dfd8"
      },
      "source": [
        "# Show some predicted labels and their probabilities to be correct\n",
        "plt.figure(figsize=[16,16])\n",
        "for i in range(10):\n",
        "    plt.subplot(1,10,i+1)\n",
        "    plt.title(\"Label: {0}\\nPrediction:{1}\\nProba:{2:.3f}\".format(\n",
        "        y_test_index[i], y_pred_test_index[i], y_pred_test_proba[i] ))\n",
        "    plt.imshow(x_test[i].reshape([28,28]),cmap='gray');"
      ],
      "execution_count": 11,
      "outputs": [
        {
          "output_type": "display_data",
          "data": {
            "image/png": "[encoded data removed]",
            "text/plain": [
              "<Figure size 1152x1152 with 10 Axes>"
            ]
          },
          "metadata": {
            "tags": []
          }
        }
      ]
    },
    {
      "cell_type": "code",
      "metadata": {
        "id": "C3GO3lDpR4qm",
        "colab_type": "code",
        "colab": {}
      },
      "source": [
        ""
      ],
      "execution_count": 0,
      "outputs": []
    }
  ]
}